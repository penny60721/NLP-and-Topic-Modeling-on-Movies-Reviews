{
 "cells": [
  {
   "cell_type": "markdown",
   "metadata": {
    "colab_type": "text",
    "id": "Xp3LTq59E8UK"
   },
   "source": [
    "# Document Clustering and Topic Modeling"
   ]
  },
  {
   "cell_type": "markdown",
   "metadata": {
    "colab_type": "text",
    "id": "mS-ob0Q8E8UM"
   },
   "source": [
    "* **In this project, we use unsupervised learning model to cluster unlabeled documents into different groups, visualize the results and identify their latent topics and structures.**"
   ]
  },
  {
   "cell_type": "markdown",
   "metadata": {
    "colab_type": "text",
    "id": "ZE7Qr-ccE8UN"
   },
   "source": [
    "## Contents"
   ]
  },
  {
   "cell_type": "markdown",
   "metadata": {
    "colab_type": "text",
    "id": "2S0waFW9E8UO"
   },
   "source": [
    "<ul>\n",
    "<li>[Part 1: Load Data](#Part-1:-Load-Data)\n",
    "<li>[Part 2: Tokenizing and Stemming](#Part-2:-Tokenizing-and-Stemming)\n",
    "<li>[Part 3: TF-IDF](#Part-3:-TF-IDF)\n",
    "<li>[Part 4: K-means clustering](#Part-4:-K-means-clustering)\n",
    "<li>[Part 5: Topic Modeling - Latent Dirichlet Allocation](#Part-5:-Topic-Modeling---Latent-Dirichlet-Allocation)\n",
    "</ul>"
   ]
  },
  {
   "cell_type": "markdown",
   "metadata": {
    "colab_type": "text",
    "id": "Nc9DK62BE8UP"
   },
   "source": [
    "# Part 1: Load Data"
   ]
  },
  {
   "cell_type": "code",
   "execution_count": 1,
   "metadata": {
    "colab": {
     "base_uri": "https://localhost:8080/",
     "height": 68
    },
    "colab_type": "code",
    "executionInfo": {
     "elapsed": 348,
     "status": "ok",
     "timestamp": 1552771527088,
     "user": {
      "displayName": "Arthur M",
      "photoUrl": "",
      "userId": "16377123886564016720"
     },
     "user_tz": 420
    },
    "id": "OjdBV8gGE8UQ",
    "outputId": "beec5da5-c4e7-4065-83a5-fe9665d13df9"
   },
   "outputs": [
    {
     "name": "stderr",
     "output_type": "stream",
     "text": [
      "[nltk_data] Downloading package punkt to /Users/Apple/nltk_data...\n",
      "[nltk_data]   Package punkt is already up-to-date!\n"
     ]
    },
    {
     "data": {
      "text/plain": [
       "True"
      ]
     },
     "execution_count": 1,
     "metadata": {},
     "output_type": "execute_result"
    }
   ],
   "source": [
    "import warnings\n",
    "warnings.filterwarnings('ignore')\n",
    "import numpy as np\n",
    "import pandas as pd\n",
    "import nltk\n",
    "# REGULAR EXPRESSION\n",
    "import re\n",
    "import os\n",
    "\n",
    "from sklearn import decomposition\n",
    "from sklearn.feature_extraction.text import TfidfVectorizer\n",
    "import matplotlib.pyplot as plt\n",
    "\n",
    "nltk.download('punkt')\n"
   ]
  },
  {
   "cell_type": "markdown",
   "metadata": {
    "colab_type": "text",
    "id": "gVsLtiVfE8UU"
   },
   "source": [
    "Read data from files. In summary, we have 100 titles and 100 synoposes (combined from imdb and wiki)."
   ]
  },
  {
   "cell_type": "code",
   "execution_count": 2,
   "metadata": {
    "colab": {},
    "colab_type": "code",
    "id": "wiGJ0f_gE8UV"
   },
   "outputs": [],
   "source": [
    "#import three lists: titles and wikipedia synopses\n",
    "titles = open('../data/title_list.txt').read().split('\\n')\n",
    "titles = titles[:100] #ensures that only the first 100 are read in\n",
    "\n",
    "#The wiki synopses and imdb synopses of each movie is seperated by the keywords \"BREAKS HERE\". \n",
    "#Each synoposes may consist of multiple paragraphs.\n",
    "synopses_wiki = open('../data/synopses_list_wiki.txt').read().split('\\n BREAKS HERE')\n",
    "synopses_wiki = synopses_wiki[:100]\n",
    "\n",
    "synopses_imdb = open('../data/synopses_list_imdb.txt').read().split('\\n BREAKS HERE')\n",
    "synopses_imdb = synopses_imdb[:100]\n",
    "\n",
    "#Combine imdb and wiki to get full synoposes for the top 100 movies. \n",
    "synopses = []\n",
    "for i in range(len(synopses_wiki)):\n",
    "    item = synopses_wiki[i] + synopses_imdb[i]\n",
    "    synopses.append(item)\n",
    "    \n",
    "#Because these synopses have already been ordered in popularity order, \n",
    "#we just need to generate a list of ordered numbers for future usage.\n",
    "ranks = range(len(titles))\n"
   ]
  },
  {
   "cell_type": "code",
   "execution_count": 18,
   "metadata": {
    "scrolled": true
   },
   "outputs": [
    {
     "name": "stdout",
     "output_type": "stream",
     "text": [
      "The average number of words in one synopsis is 3107.8\n"
     ]
    }
   ],
   "source": [
    "count_sum = 0\n",
    "for i in range(len(titles)):\n",
    "    count = len(synopses[i].split())\n",
    "    count_sum += count\n",
    "print(f'The average number of words in one synopsis is {count_sum/len(titles)}')"
   ]
  },
  {
   "cell_type": "markdown",
   "metadata": {
    "colab_type": "text",
    "id": "iQ4KGnVeE8UX"
   },
   "source": [
    "# Part 2: Tokenizing and Stemming"
   ]
  },
  {
   "cell_type": "markdown",
   "metadata": {
    "colab_type": "text",
    "collapsed": true,
    "id": "GHHIaFATE8UY"
   },
   "source": [
    "**Load stopwords and stemmer function from NLTK library.\n",
    "Stop words are words like \"a\", \"the\", or \"in\" which don't convey significant meaning.\n",
    "Stemming is the process of breaking a word down into its root.**"
   ]
  },
  {
   "cell_type": "code",
   "execution_count": 28,
   "metadata": {
    "colab": {
     "base_uri": "https://localhost:8080/",
     "height": 51
    },
    "colab_type": "code",
    "executionInfo": {
     "elapsed": 11182,
     "status": "ok",
     "timestamp": 1552770992326,
     "user": {
      "displayName": "Arthur M",
      "photoUrl": "",
      "userId": "16377123886564016720"
     },
     "user_tz": 420
    },
    "id": "3gSwiUBRE8UY",
    "outputId": "7786ec1e-1b1c-4ede-a95e-880084e0ae11"
   },
   "outputs": [
    {
     "name": "stdout",
     "output_type": "stream",
     "text": [
      "We use 191 stop-words from nltk library.\n",
      "['i', 'me', 'my', 'myself', 'we', 'our', 'ours', 'ourselves', 'you', \"you're\"]\n"
     ]
    }
   ],
   "source": [
    "# Use nltk's English stopwords.\n",
    "stopwords = nltk.corpus.stopwords.words('english')\n",
    "stopwords.extend(['\\'s','\\'m','c.', 'ca n\\'t','\\'d', 'e.', 'e.t', 'f.', 'll', 'r.f', 'r2', 'r2-d2'])\n",
    "print (\"We use \" + str(len(stopwords)) + \" stop-words from nltk library.\")\n",
    "print (stopwords[:10])\n"
   ]
  },
  {
   "cell_type": "code",
   "execution_count": 29,
   "metadata": {
    "colab": {},
    "colab_type": "code",
    "id": "e50130X8E8Uc"
   },
   "outputs": [],
   "source": [
    "from nltk.stem.snowball import SnowballStemmer\n",
    "stemmer = SnowballStemmer('english')\n",
    "\n",
    "# tokenization and stemming\n",
    "def tokenization_and_stemming(text):\n",
    "    # exclude stop words and tokenize the document, generate a list of string \n",
    "    tokens = [word.lower() for sent in nltk.sent_tokenize(text) for word in nltk.word_tokenize(sent) if word not in stopwords]\n",
    "\n",
    "    filtered_tokens = []\n",
    "    \n",
    "    # filter out any tokens not containing letters (e.g., numeric tokens, raw punctuation)\n",
    "    for token in tokens:\n",
    "        if re.search('[a-zA-Z]', token):\n",
    "            filtered_tokens.append(token)\n",
    "            \n",
    "    # stemming\n",
    "    stems = [stemmer.stem(t) for t in filtered_tokens]\n",
    "    return stems\n",
    "\n",
    "# tokenization without stemming\n",
    "def tokenization(text):\n",
    "    tokens = [word.lower() for sent in nltk.sent_tokenize(text) for word in nltk.word_tokenize(sent) if word not in stopwords]\n",
    "    filtered_tokens = []\n",
    "    for token in tokens:\n",
    "        if re.search('[a-zA-Z]', token):\n",
    "            filtered_tokens.append(token)\n",
    "    return filtered_tokens"
   ]
  },
  {
   "cell_type": "code",
   "execution_count": 30,
   "metadata": {
    "colab": {
     "base_uri": "https://localhost:8080/",
     "height": 283
    },
    "colab_type": "code",
    "executionInfo": {
     "elapsed": 456,
     "status": "error",
     "timestamp": 1552771536486,
     "user": {
      "displayName": "Arthur M",
      "photoUrl": "",
      "userId": "16377123886564016720"
     },
     "user_tz": 420
    },
    "id": "BwbA6hETE8Uf",
    "outputId": "1172af4c-d57d-4fbb-c407-bbf51e24207b"
   },
   "outputs": [
    {
     "data": {
      "text/plain": [
       "['look', 'father', 'arm']"
      ]
     },
     "execution_count": 30,
     "metadata": {},
     "output_type": "execute_result"
    }
   ],
   "source": [
    "# tokenization and stemming\n",
    "tokenization_and_stemming(\"she looked at her father's arm.\")"
   ]
  },
  {
   "cell_type": "markdown",
   "metadata": {
    "colab_type": "text",
    "id": "WtDXMCeME8Uh"
   },
   "source": [
    "**Use our defined functions to analyze (i.e. tokenize, stem) our synoposes.**"
   ]
  },
  {
   "cell_type": "code",
   "execution_count": 31,
   "metadata": {
    "colab": {},
    "colab_type": "code",
    "id": "CNtXZ3RlE8Ui"
   },
   "outputs": [],
   "source": [
    "# 1. do tokenization and stemming for all the documents\n",
    "# 2. also just do tokenization for all the documents\n",
    "# the goal is to create a mapping from stemmed words to original tokenized words for result interpretation.\n",
    "docs_stemmed = []\n",
    "docs_tokenized = []\n",
    "for i in synopses:\n",
    "    tokenized_and_stemmed_results = tokenization_and_stemming(i)\n",
    "    docs_stemmed.extend(tokenized_and_stemmed_results)\n",
    "    \n",
    "    tokenized_results = tokenization(i)\n",
    "    docs_tokenized.extend(tokenized_results)"
   ]
  },
  {
   "cell_type": "markdown",
   "metadata": {
    "colab_type": "text",
    "id": "Kj7JZxnpE8Uk"
   },
   "source": [
    "**Create a mapping from stemmed words to original tokenized words for result interpretation.**"
   ]
  },
  {
   "cell_type": "code",
   "execution_count": 32,
   "metadata": {
    "colab": {
     "base_uri": "https://localhost:8080/",
     "height": 34
    },
    "colab_type": "code",
    "executionInfo": {
     "elapsed": 34274,
     "status": "ok",
     "timestamp": 1552771015466,
     "user": {
      "displayName": "Arthur M",
      "photoUrl": "",
      "userId": "16377123886564016720"
     },
     "user_tz": 420
    },
    "id": "uoTp63fME8Ul",
    "outputId": "50ce2011-514b-4854-c020-640fe6b5b891"
   },
   "outputs": [
    {
     "name": "stdout",
     "output_type": "stream",
     "text": [
      "angeles\n"
     ]
    }
   ],
   "source": [
    "vocab_frame_dict = {docs_stemmed[x]:docs_tokenized[x] for x in range(len(docs_stemmed))}\n",
    "print (vocab_frame_dict['angel'])"
   ]
  },
  {
   "cell_type": "markdown",
   "metadata": {
    "colab_type": "text",
    "collapsed": true,
    "id": "QAWdFqL5E8Uo"
   },
   "source": [
    "# Part 3: TF-IDF\n",
    "\n",
    "TF: Term Frequency\n",
    "\n",
    "IDF: Inverse Document Frequency\n",
    "\n"
   ]
  },
  {
   "cell_type": "code",
   "execution_count": 33,
   "metadata": {
    "colab": {
     "base_uri": "https://localhost:8080/",
     "height": 34
    },
    "colab_type": "code",
    "executionInfo": {
     "elapsed": 43940,
     "status": "ok",
     "timestamp": 1552771025155,
     "user": {
      "displayName": "Arthur M",
      "photoUrl": "",
      "userId": "16377123886564016720"
     },
     "user_tz": 420
    },
    "id": "k-XH7R4pE8Up",
    "outputId": "854cd09b-26e5-477b-efa5-697ab6696f0d"
   },
   "outputs": [
    {
     "name": "stdout",
     "output_type": "stream",
     "text": [
      "In total, there are 100 synoposes and 2000 terms.\n"
     ]
    }
   ],
   "source": [
    "# define vectorizer parameters\n",
    "# TfidfVectorizer will help us to create tf-idf matrix\n",
    "# max_df : maximum document frequency for the given word\n",
    "# min_df : minimum document frequency for the given word\n",
    "# max_features: maximum number of words\n",
    "# use_idf: if not true, we only calculate tf\n",
    "# stop_words : built-in stop words\n",
    "# tokenizer: how to tokenize the document\n",
    "# ngram_range: (min_value, max_value), eg. (1, 3) means the result will include 1-gram, 2-gram, 3-gram\n",
    "tfidf_model = TfidfVectorizer(max_df=0.8, max_features=2000,\n",
    "                                 min_df=0, stop_words='english',\n",
    "                                 use_idf=True, tokenizer=tokenization_and_stemming, ngram_range=(1,3))\n",
    "\n",
    "tfidf_matrix = tfidf_model.fit_transform(synopses) #fit the vectorizer to synopses\n",
    "\n",
    "print (\"In total, there are \" + str(tfidf_matrix.shape[0]) + \\\n",
    "      \" synoposes and \" + str(tfidf_matrix.shape[1]) + \" terms.\")"
   ]
  },
  {
   "cell_type": "code",
   "execution_count": 34,
   "metadata": {
    "colab": {
     "base_uri": "https://localhost:8080/",
     "height": 374
    },
    "colab_type": "code",
    "executionInfo": {
     "elapsed": 43930,
     "status": "ok",
     "timestamp": 1552771025160,
     "user": {
      "displayName": "Arthur M",
      "photoUrl": "",
      "userId": "16377123886564016720"
     },
     "user_tz": 420
    },
    "id": "GoRH6IDVE8Ur",
    "outputId": "7fc134c6-cbcf-4a6e-e1f1-9c0fd6d5dd62"
   },
   "outputs": [
    {
     "data": {
      "text/plain": [
       "{'analyzer': 'word',\n",
       " 'binary': False,\n",
       " 'decode_error': 'strict',\n",
       " 'dtype': numpy.float64,\n",
       " 'encoding': 'utf-8',\n",
       " 'input': 'content',\n",
       " 'lowercase': True,\n",
       " 'max_df': 0.8,\n",
       " 'max_features': 2000,\n",
       " 'min_df': 0,\n",
       " 'ngram_range': (1, 3),\n",
       " 'norm': 'l2',\n",
       " 'preprocessor': None,\n",
       " 'smooth_idf': True,\n",
       " 'stop_words': 'english',\n",
       " 'strip_accents': None,\n",
       " 'sublinear_tf': False,\n",
       " 'token_pattern': '(?u)\\\\b\\\\w\\\\w+\\\\b',\n",
       " 'tokenizer': <function __main__.tokenization_and_stemming(text)>,\n",
       " 'use_idf': True,\n",
       " 'vocabulary': None}"
      ]
     },
     "execution_count": 34,
     "metadata": {},
     "output_type": "execute_result"
    }
   ],
   "source": [
    "# check the parameters\n",
    "tfidf_model.get_params()"
   ]
  },
  {
   "cell_type": "markdown",
   "metadata": {
    "colab_type": "text",
    "id": "whu1pCOiE8Uv"
   },
   "source": [
    "**Save the terms identified by TF-IDF.**"
   ]
  },
  {
   "cell_type": "code",
   "execution_count": 35,
   "metadata": {
    "colab": {},
    "colab_type": "code",
    "id": "lLdKk6n-E8Uw"
   },
   "outputs": [],
   "source": [
    "# words\n",
    "tf_selected_words = tfidf_model.get_feature_names()"
   ]
  },
  {
   "cell_type": "code",
   "execution_count": 37,
   "metadata": {
    "colab": {
     "base_uri": "https://localhost:8080/",
     "height": 51
    },
    "colab_type": "code",
    "executionInfo": {
     "elapsed": 43882,
     "status": "ok",
     "timestamp": 1552771025166,
     "user": {
      "displayName": "Arthur M",
      "photoUrl": "",
      "userId": "16377123886564016720"
     },
     "user_tz": 420
    },
    "id": "k6JFh-1BE8Uy",
    "outputId": "ea95986b-2031-440a-d05b-e6bd2e6c1a33"
   },
   "outputs": [
    {
     "data": {
      "text/plain": [
       "<100x2000 sparse matrix of type '<class 'numpy.float64'>'\n",
       "\twith 31683 stored elements in Compressed Sparse Row format>"
      ]
     },
     "execution_count": 37,
     "metadata": {},
     "output_type": "execute_result"
    }
   ],
   "source": [
    "# tf-idf matrix\n",
    "tfidf_matrix"
   ]
  },
  {
   "cell_type": "markdown",
   "metadata": {
    "colab_type": "text",
    "id": "1hPhgwSeE8U4"
   },
   "source": [
    "# (Optional) Calculate Document Similarity"
   ]
  },
  {
   "cell_type": "code",
   "execution_count": 38,
   "metadata": {
    "colab": {
     "base_uri": "https://localhost:8080/",
     "height": 136
    },
    "colab_type": "code",
    "executionInfo": {
     "elapsed": 43864,
     "status": "ok",
     "timestamp": 1552771025167,
     "user": {
      "displayName": "Arthur M",
      "photoUrl": "",
      "userId": "16377123886564016720"
     },
     "user_tz": 420
    },
    "id": "NI1CN6m6E8U5",
    "outputId": "ba9be51c-9463-474e-bdeb-0bf471e84f51",
    "scrolled": true
   },
   "outputs": [
    {
     "name": "stdout",
     "output_type": "stream",
     "text": [
      "[[1.         0.01619854 0.01959693 ... 0.0225952  0.02242697 0.04405596]\n",
      " [0.01619854 1.         0.03193097 ... 0.01285842 0.01352422 0.01770618]\n",
      " [0.01959693 0.03193097 1.         ... 0.01641539 0.01253589 0.04187251]\n",
      " ...\n",
      " [0.0225952  0.01285842 0.01641539 ... 1.         0.03241259 0.04700097]\n",
      " [0.02242697 0.01352422 0.01253589 ... 0.03241259 1.         0.01959002]\n",
      " [0.04405596 0.01770618 0.04187251 ... 0.04700097 0.01959002 1.        ]]\n"
     ]
    }
   ],
   "source": [
    "# use cosine similarity to check the similarity for two documents\n",
    "from sklearn.metrics.pairwise import cosine_similarity\n",
    "cos_matrix = cosine_similarity(tfidf_matrix)\n",
    "print (cos_matrix)"
   ]
  },
  {
   "cell_type": "markdown",
   "metadata": {
    "colab_type": "text",
    "id": "XEcwtws5E8U8"
   },
   "source": [
    "# Part 4: K-means clustering"
   ]
  },
  {
   "cell_type": "code",
   "execution_count": 39,
   "metadata": {
    "colab": {},
    "colab_type": "code",
    "id": "7LJQ5i3IE8U9",
    "scrolled": true
   },
   "outputs": [],
   "source": [
    "# k-means clustering\n",
    "from sklearn.cluster import KMeans\n",
    "\n",
    "# number of clusters\n",
    "num_clusters = 5\n",
    "km = KMeans(n_clusters=num_clusters)\n",
    "km.fit(tfidf_matrix)\n",
    "clusters = km.labels_.tolist()"
   ]
  },
  {
   "cell_type": "markdown",
   "metadata": {
    "colab_type": "text",
    "id": "fboVpRAfE8U-"
   },
   "source": [
    "## 4.1. Analyze K-means Result"
   ]
  },
  {
   "cell_type": "code",
   "execution_count": 40,
   "metadata": {
    "colab": {},
    "colab_type": "code",
    "id": "KGs4aIIME8U_"
   },
   "outputs": [],
   "source": [
    "# create DataFrame films from all of the input files.\n",
    "films = { 'title': titles, 'rank': ranks, 'synopsis': synopses, 'cluster': clusters}\n",
    "frame = pd.DataFrame(films, index = [clusters] , columns = ['rank', 'title', 'cluster'])"
   ]
  },
  {
   "cell_type": "code",
   "execution_count": 41,
   "metadata": {
    "colab": {
     "base_uri": "https://localhost:8080/",
     "height": 359
    },
    "colab_type": "code",
    "executionInfo": {
     "elapsed": 44596,
     "status": "ok",
     "timestamp": 1552771025923,
     "user": {
      "displayName": "Arthur M",
      "photoUrl": "",
      "userId": "16377123886564016720"
     },
     "user_tz": 420
    },
    "id": "APmEUmm6E8VC",
    "outputId": "a9129b06-ab81-4f37-c1f7-1e6de18acf7f",
    "scrolled": true
   },
   "outputs": [
    {
     "data": {
      "text/html": [
       "<div>\n",
       "<style scoped>\n",
       "    .dataframe tbody tr th:only-of-type {\n",
       "        vertical-align: middle;\n",
       "    }\n",
       "\n",
       "    .dataframe tbody tr th {\n",
       "        vertical-align: top;\n",
       "    }\n",
       "\n",
       "    .dataframe thead th {\n",
       "        text-align: right;\n",
       "    }\n",
       "</style>\n",
       "<table border=\"1\" class=\"dataframe\">\n",
       "  <thead>\n",
       "    <tr style=\"text-align: right;\">\n",
       "      <th></th>\n",
       "      <th>rank</th>\n",
       "      <th>title</th>\n",
       "      <th>cluster</th>\n",
       "    </tr>\n",
       "  </thead>\n",
       "  <tbody>\n",
       "    <tr>\n",
       "      <th>2</th>\n",
       "      <td>0</td>\n",
       "      <td>The Godfather</td>\n",
       "      <td>2</td>\n",
       "    </tr>\n",
       "    <tr>\n",
       "      <th>3</th>\n",
       "      <td>1</td>\n",
       "      <td>The Shawshank Redemption</td>\n",
       "      <td>3</td>\n",
       "    </tr>\n",
       "    <tr>\n",
       "      <th>4</th>\n",
       "      <td>2</td>\n",
       "      <td>Schindler's List</td>\n",
       "      <td>4</td>\n",
       "    </tr>\n",
       "    <tr>\n",
       "      <th>1</th>\n",
       "      <td>3</td>\n",
       "      <td>Raging Bull</td>\n",
       "      <td>1</td>\n",
       "    </tr>\n",
       "    <tr>\n",
       "      <th>4</th>\n",
       "      <td>4</td>\n",
       "      <td>Casablanca</td>\n",
       "      <td>4</td>\n",
       "    </tr>\n",
       "    <tr>\n",
       "      <th>0</th>\n",
       "      <td>5</td>\n",
       "      <td>One Flew Over the Cuckoo's Nest</td>\n",
       "      <td>0</td>\n",
       "    </tr>\n",
       "    <tr>\n",
       "      <th>4</th>\n",
       "      <td>6</td>\n",
       "      <td>Gone with the Wind</td>\n",
       "      <td>4</td>\n",
       "    </tr>\n",
       "    <tr>\n",
       "      <th>4</th>\n",
       "      <td>7</td>\n",
       "      <td>Citizen Kane</td>\n",
       "      <td>4</td>\n",
       "    </tr>\n",
       "    <tr>\n",
       "      <th>4</th>\n",
       "      <td>8</td>\n",
       "      <td>The Wizard of Oz</td>\n",
       "      <td>4</td>\n",
       "    </tr>\n",
       "    <tr>\n",
       "      <th>0</th>\n",
       "      <td>9</td>\n",
       "      <td>Titanic</td>\n",
       "      <td>0</td>\n",
       "    </tr>\n",
       "  </tbody>\n",
       "</table>\n",
       "</div>"
      ],
      "text/plain": [
       "   rank                            title  cluster\n",
       "2     0                    The Godfather        2\n",
       "3     1         The Shawshank Redemption        3\n",
       "4     2                 Schindler's List        4\n",
       "1     3                      Raging Bull        1\n",
       "4     4                       Casablanca        4\n",
       "0     5  One Flew Over the Cuckoo's Nest        0\n",
       "4     6               Gone with the Wind        4\n",
       "4     7                     Citizen Kane        4\n",
       "4     8                 The Wizard of Oz        4\n",
       "0     9                          Titanic        0"
      ]
     },
     "execution_count": 41,
     "metadata": {},
     "output_type": "execute_result"
    }
   ],
   "source": [
    "frame.head(10)"
   ]
  },
  {
   "cell_type": "code",
   "execution_count": 42,
   "metadata": {
    "colab": {
     "base_uri": "https://localhost:8080/",
     "height": 221
    },
    "colab_type": "code",
    "executionInfo": {
     "elapsed": 44583,
     "status": "ok",
     "timestamp": 1552771025923,
     "user": {
      "displayName": "Arthur M",
      "photoUrl": "",
      "userId": "16377123886564016720"
     },
     "user_tz": 420
    },
    "id": "Ht1SbbOSE8VE",
    "outputId": "fcfda6c3-cdcc-4fe7-f015-1835c08ed850",
    "scrolled": false
   },
   "outputs": [
    {
     "name": "stdout",
     "output_type": "stream",
     "text": [
      "Number of films included in each cluster:\n"
     ]
    },
    {
     "data": {
      "text/html": [
       "<div>\n",
       "<style scoped>\n",
       "    .dataframe tbody tr th:only-of-type {\n",
       "        vertical-align: middle;\n",
       "    }\n",
       "\n",
       "    .dataframe tbody tr th {\n",
       "        vertical-align: top;\n",
       "    }\n",
       "\n",
       "    .dataframe thead th {\n",
       "        text-align: right;\n",
       "    }\n",
       "</style>\n",
       "<table border=\"1\" class=\"dataframe\">\n",
       "  <thead>\n",
       "    <tr style=\"text-align: right;\">\n",
       "      <th></th>\n",
       "      <th>cluster</th>\n",
       "    </tr>\n",
       "  </thead>\n",
       "  <tbody>\n",
       "    <tr>\n",
       "      <th>4</th>\n",
       "      <td>41</td>\n",
       "    </tr>\n",
       "    <tr>\n",
       "      <th>2</th>\n",
       "      <td>31</td>\n",
       "    </tr>\n",
       "    <tr>\n",
       "      <th>3</th>\n",
       "      <td>12</td>\n",
       "    </tr>\n",
       "    <tr>\n",
       "      <th>1</th>\n",
       "      <td>9</td>\n",
       "    </tr>\n",
       "    <tr>\n",
       "      <th>0</th>\n",
       "      <td>7</td>\n",
       "    </tr>\n",
       "  </tbody>\n",
       "</table>\n",
       "</div>"
      ],
      "text/plain": [
       "   cluster\n",
       "4       41\n",
       "2       31\n",
       "3       12\n",
       "1        9\n",
       "0        7"
      ]
     },
     "execution_count": 42,
     "metadata": {},
     "output_type": "execute_result"
    }
   ],
   "source": [
    "print (\"Number of films included in each cluster:\")\n",
    "frame['cluster'].value_counts().to_frame()"
   ]
  },
  {
   "cell_type": "code",
   "execution_count": 43,
   "metadata": {
    "colab": {
     "base_uri": "https://localhost:8080/",
     "height": 130
    },
    "colab_type": "code",
    "executionInfo": {
     "elapsed": 45000,
     "status": "error",
     "timestamp": 1552771026355,
     "user": {
      "displayName": "Arthur M",
      "photoUrl": "",
      "userId": "16377123886564016720"
     },
     "user_tz": 420
    },
    "id": "PEk3P4BTE8VI",
    "outputId": "b8c13f39-9c08-48b4-c3e2-7f92554cac78",
    "scrolled": true
   },
   "outputs": [
    {
     "name": "stdout",
     "output_type": "stream",
     "text": [
      "<Document clustering result by K-means> \n",
      "\n",
      "Cluster 0 words: juror,rose,mcmurphy,sean,lambeau,starling,\n",
      "Cluster 0 titles (7 movies): \n",
      "One Flew Over the Cuckoo's Nest, Titanic, The Silence of the Lambs, The Bridge on the River Kwai, 12 Angry Men, Good Will Hunting, The African Queen\n",
      "\n",
      "Cluster 1 words: joe,jerry,shane,butch,charlie,jake,\n",
      "Cluster 1 titles (9 movies): \n",
      "Raging Bull, Sunset Blvd., Some Like It Hot, An American in Paris, Butch Cassidy and the Sundance Kid, Midnight Cowboy, Rain Man, Fargo, Shane\n",
      "\n",
      "Cluster 2 words: michael,alex,tom,travis,wallaces,rocky,\n",
      "Cluster 2 titles (31 movies): \n",
      "The Godfather, The Godfather: Part II, Vertigo, On the Waterfront, E.T. the Extra-Terrestrial, Chinatown, Gladiator, Rocky, To Kill a Mockingbird, Doctor Zhivago, Patton, Jaws, Braveheart, The Apartment, High Noon, Goodfellas, The French Connection, It Happened One Night, Terms of Endearment, Tootsie, The Grapes of Wrath, The Green Mile, Pulp Fiction, Mutiny on the Bounty, The Maltese Falcon, A Clockwork Orange, Taxi Driver, Double Indemnity, Rebel Without a Cause, Rear Window, North by Northwest\n",
      "\n",
      "Cluster 3 words: mike,andy,munny,tracy,willard,miller,\n",
      "Cluster 3 titles (12 movies): \n",
      "The Shawshank Redemption, Apocalypse Now, From Here to Eternity, Saving Private Ryan, Unforgiven, Raiders of the Lost Ark, A Streetcar Named Desire, The Philadelphia Story, Platoon, The Deer Hunter, City Lights, American Graffiti\n",
      "\n",
      "Cluster 4 words: george,maria,beale,forrestal,kane,war,\n",
      "Cluster 4 titles (41 movies): \n",
      "Schindler's List, Casablanca, Gone with the Wind, Citizen Kane, The Wizard of Oz, Lawrence of Arabia, Psycho, Forrest Gump, The Sound of Music, West Side Story, Star Wars, 2001: A Space Odyssey, Singin' in the Rain, It's a Wonderful Life, Dr. Strangelove or: How I Learned to Stop Worrying and Love the Bomb, Amadeus, Gandhi, The Lord of the Rings: The Return of the King, The Best Years of Our Lives, My Fair Lady, Ben-Hur, The Good, the Bad and the Ugly, The Treasure of the Sierra Madre, Dances with Wolves, The Pianist, The Exorcist, All Quiet on the Western Front, The King's Speech, A Place in the Sun, Mr. Smith Goes to Washington, Annie Hall, Out of Africa, Giant, Close Encounters of the Third Kind, Network, Nashville, The Graduate, Stagecoach, Wuthering Heights, The Third Man, Yankee Doodle Dandy\n",
      "\n"
     ]
    }
   ],
   "source": [
    "print (\"<Document clustering result by K-means> \\n\")\n",
    "\n",
    "#km.cluster_centers_ denotes the importances of each items in centroid.\n",
    "#We need to sort it in decreasing-order and get the top k items.\n",
    "order_centroids = km.cluster_centers_.argsort()[:, ::-1] \n",
    "\n",
    "Cluster_keywords_summary = {}\n",
    "for i in range(num_clusters):\n",
    "    print (\"Cluster \" + str(i) + \" words: \", end='')\n",
    "    Cluster_keywords_summary[i] = []\n",
    "    for ind in order_centroids[i, :6]: #replace 6 with n words per cluster\n",
    "        Cluster_keywords_summary[i].append(vocab_frame_dict[tf_selected_words[ind]])\n",
    "        print (vocab_frame_dict[tf_selected_words[ind]] + \",\", end='')\n",
    "    print ()\n",
    "    #Here ix means index, which is the clusterID of each item.\n",
    "    #Without tolist, the values result from dataframe is <type 'numpy.ndarray'>\n",
    "    cluster_movies = frame.ix[i]['title'].values.tolist()\n",
    "    print (\"Cluster \" + str(i) + \" titles (\" + str(len(cluster_movies)) + \" movies): \")\n",
    "    print (\", \".join(cluster_movies))\n",
    "    print ()"
   ]
  },
  {
   "cell_type": "markdown",
   "metadata": {
    "colab_type": "text",
    "id": "DdpmzonWE8VM"
   },
   "source": [
    "## 4.2. Plot K-means Result"
   ]
  },
  {
   "cell_type": "code",
   "execution_count": 44,
   "metadata": {
    "colab": {},
    "colab_type": "code",
    "id": "a66VxmlYE8VM"
   },
   "outputs": [],
   "source": [
    "# use pca to reduce dimensions to 2d for visibility, just want to see if there 2d can give us some insights\n",
    "# this is not an appropriate method, just a guess.\n",
    "pca = decomposition.PCA(n_components=2)\n",
    "tfidf_matrix_np=tfidf_matrix.toarray()\n",
    "pca.fit(tfidf_matrix_np)\n",
    "X = pca.transform(tfidf_matrix_np)\n",
    "\n",
    "xs, ys = X[:, 0], X[:, 1]\n",
    "\n",
    "#set up colors per clusters using a dict\n",
    "cluster_colors = {0: 'red', 1: 'orange', 2: 'green', 3: 'blue', 4: 'purple'}\n",
    "#set up cluster names using a dict\n",
    "cluster_names = {}\n",
    "for i in range(num_clusters):\n",
    "    cluster_names[i] = \", \".join(Cluster_keywords_summary[i])"
   ]
  },
  {
   "cell_type": "code",
   "execution_count": 45,
   "metadata": {
    "colab": {},
    "colab_type": "code",
    "id": "829bBRgEE8VP",
    "scrolled": false
   },
   "outputs": [
    {
     "data": {
      "image/png": "[encoded data removed]",
      "text/plain": [
       "<Figure size 1152x648 with 1 Axes>"
      ]
     },
     "metadata": {
      "needs_background": "light"
     },
     "output_type": "display_data"
    }
   ],
   "source": [
    "# %matplotlib inline \n",
    "\n",
    "#create data frame with PCA cluster results\n",
    "df = pd.DataFrame(dict(x=xs, y=ys, label=clusters, title=titles)) \n",
    "groups = df.groupby(clusters)\n",
    "\n",
    "# set up plot\n",
    "fig, ax = plt.subplots(figsize=(16, 9))\n",
    "#Set color for each cluster/group\n",
    "for name, group in groups:\n",
    "    ax.plot(group.x, group.y, marker='o', linestyle='', ms=12, \n",
    "            label=cluster_names[name], color=cluster_colors[name], \n",
    "            mec='none', alpha = 0.5)\n",
    "\n",
    "ax.legend(loc=4)  #show legend with only 1 point, position is right bottom.\n",
    "\n",
    "plt.show() #show the plot"
   ]
  },
  {
   "cell_type": "markdown",
   "metadata": {
    "colab_type": "text",
    "id": "oYOZXL53E8VV"
   },
   "source": [
    "# Part 5: Topic Modeling - Latent Dirichlet Allocation"
   ]
  },
  {
   "cell_type": "code",
   "execution_count": 59,
   "metadata": {
    "colab": {},
    "colab_type": "code",
    "id": "lBPVbFNFE8VW"
   },
   "outputs": [],
   "source": [
    "# Use LDA for clustering\n",
    "from sklearn.decomposition import LatentDirichletAllocation\n",
    "lda = LatentDirichletAllocation(n_components=5, learning_method = 'online')"
   ]
  },
  {
   "cell_type": "code",
   "execution_count": 60,
   "metadata": {
    "colab": {},
    "colab_type": "code",
    "id": "L5YYz__7E8VY"
   },
   "outputs": [],
   "source": [
    "# LDA requires integer values, keep first 3 digits\n",
    "tfidf_matrix_lda = (tfidf_matrix * 100)\n",
    "tfidf_matrix_lda = tfidf_matrix_lda.astype(int)"
   ]
  },
  {
   "cell_type": "code",
   "execution_count": 61,
   "metadata": {
    "colab": {},
    "colab_type": "code",
    "id": "qIwUNN0ZE8Vb"
   },
   "outputs": [
    {
     "data": {
      "text/plain": [
       "LatentDirichletAllocation(batch_size=128, doc_topic_prior=None,\n",
       "             evaluate_every=-1, learning_decay=0.7,\n",
       "             learning_method='online', learning_offset=10.0,\n",
       "             max_doc_update_iter=100, max_iter=10, mean_change_tol=0.001,\n",
       "             n_components=5, n_jobs=None, n_topics=None, perp_tol=0.1,\n",
       "             random_state=None, topic_word_prior=None,\n",
       "             total_samples=1000000.0, verbose=0)"
      ]
     },
     "execution_count": 61,
     "metadata": {},
     "output_type": "execute_result"
    }
   ],
   "source": [
    "lda.fit(tfidf_matrix_lda)"
   ]
  },
  {
   "cell_type": "code",
   "execution_count": 62,
   "metadata": {
    "colab": {},
    "colab_type": "code",
    "id": "TukTmm7dE8Vd",
    "scrolled": true
   },
   "outputs": [
    {
     "name": "stdout",
     "output_type": "stream",
     "text": [
      "(5, 2000)\n"
     ]
    }
   ],
   "source": [
    "# topics and words matrix\n",
    "topic_word = lda.components_\n",
    "print(topic_word.shape)"
   ]
  },
  {
   "cell_type": "code",
   "execution_count": 63,
   "metadata": {
    "colab": {},
    "colab_type": "code",
    "id": "4Hs012V-E8Vg"
   },
   "outputs": [],
   "source": [
    "n_top_words = 7\n",
    "topic_keywords_list = []\n",
    "for i, topic_dist in enumerate(topic_word):\n",
    "    #Here we select top(n_top_words-1)\n",
    "    lda_topic_words = np.array(tf_selected_words)[np.argsort(topic_dist)][:-n_top_words:-1] \n",
    "    for j in range(len(lda_topic_words)):\n",
    "        lda_topic_words[j] = vocab_frame_dict[lda_topic_words[j]]\n",
    "    topic_keywords_list.append(lda_topic_words.tolist())"
   ]
  },
  {
   "cell_type": "code",
   "execution_count": 51,
   "metadata": {
    "colab": {},
    "colab_type": "code",
    "id": "BuSg4tbSE8Vh"
   },
   "outputs": [
    {
     "name": "stdout",
     "output_type": "stream",
     "text": [
      "(100, 5)\n"
     ]
    }
   ],
   "source": [
    "# documents and topics matri\n",
    "doc_topic = lda.transform(tfidf_matrix_lda)\n",
    "print(doc_topic.shape)"
   ]
  },
  {
   "cell_type": "code",
   "execution_count": 54,
   "metadata": {
    "colab": {},
    "colab_type": "code",
    "id": "paiC0DU-E8Vj",
    "scrolled": true
   },
   "outputs": [
    {
     "name": "stdout",
     "output_type": "stream",
     "text": [
      "<Document clustering result by LDA>\n",
      "Cluster 4 words: michael, emma, maximus, scarlett, spade, thorwald\n",
      "Cluster 4 titles (21 movies): \n",
      "The Godfather, Gone with the Wind, The Godfather: Part II, 2001: A Space Odyssey, The Silence of the Lambs, Singin' in the Rain, Apocalypse Now, Gladiator, A Streetcar Named Desire, Braveheart, The Treasure of the Sierra Madre, The Exorcist, Terms of Endearment, Fargo, The Grapes of Wrath, Close Encounters of the Third Kind, Nashville, The Maltese Falcon, Wuthering Heights, Rear Window, North by Northwest\n",
      "\n",
      "Cluster 2 words: andy, joe, alex, patton, schindler, mcmurphy\n",
      "Cluster 2 titles (25 movies): \n",
      "The Shawshank Redemption, Schindler's List, Raging Bull, One Flew Over the Cuckoo's Nest, Titanic, Lawrence of Arabia, Sunset Blvd., E.T. the Extra-Terrestrial, Some Like It Hot, Amadeus, From Here to Eternity, To Kill a Mockingbird, Ben-Hur, Patton, Butch Cassidy and the Sundance Kid, The Pianist, The Deer Hunter, The King's Speech, A Place in the Sun, Mr. Smith Goes to Washington, Shane, The Green Mile, The Graduate, Stagecoach, A Clockwork Orange\n",
      "\n",
      "Cluster 1 words: jerry, munny, rick, george, bligh, luke\n",
      "Cluster 1 titles (17 movies): \n",
      "Casablanca, Psycho, Star Wars, It's a Wonderful Life, Saving Private Ryan, Unforgiven, An American in Paris, Doctor Zhivago, The Apartment, Platoon, All Quiet on the Western Front, The French Connection, City Lights, Midnight Cowboy, Giant, Mutiny on the Bounty, Yankee Doodle Dandy\n",
      "\n",
      "Cluster 3 words: kane, beale, forrestal, travis, rocky, shark\n",
      "Cluster 3 titles (18 movies): \n",
      "Citizen Kane, Forrest Gump, West Side Story, The Bridge on the River Kwai, The Lord of the Rings: The Return of the King, Rocky, The Best Years of Our Lives, My Fair Lady, Jaws, The Good, the Bad and the Ugly, High Noon, Goodfellas, It Happened One Night, Annie Hall, Tootsie, Network, Pulp Fiction, Taxi Driver\n",
      "\n",
      "Cluster 0 words: terry, juror, charlie, dunbar, gandhi, jim\n",
      "Cluster 0 titles (19 movies): \n",
      "The Wizard of Oz, Vertigo, On the Waterfront, The Sound of Music, Chinatown, 12 Angry Men, Dr. Strangelove or: How I Learned to Stop Worrying and Love the Bomb, Gandhi, Raiders of the Lost Ark, The Philadelphia Story, Dances with Wolves, Rain Man, Out of Africa, Good Will Hunting, American Graffiti, The African Queen, Double Indemnity, Rebel Without a Cause, The Third Man\n",
      "\n"
     ]
    }
   ],
   "source": [
    "# print out the clusters and topics and titles of the movies\n",
    "topic_doc_dict = {}\n",
    "print (\"<Document clustering result by LDA>\")\n",
    "for i in range(len(doc_topic)):\n",
    "    topicID = doc_topic[i].argmax()\n",
    "    if topicID not in topic_doc_dict:\n",
    "        topic_doc_dict[topicID] = [titles[i]]\n",
    "    else:\n",
    "        topic_doc_dict[topicID].append(titles[i])\n",
    "for i in topic_doc_dict:\n",
    "    print (\"Cluster \" + str(i) + \" words: \" + \", \".join(topic_keywords_list[i]))\n",
    "    print (\"Cluster \" + str(i) + \" titles (\" + str(len(topic_doc_dict[i])) + \" movies): \")\n",
    "    print (', '.join(topic_doc_dict[i]))\n",
    "    print ()"
   ]
  },
  {
   "cell_type": "markdown",
   "metadata": {},
   "source": [
    "# Part 6: Conclusion"
   ]
  },
  {
   "cell_type": "markdown",
   "metadata": {},
   "source": [
    "**We classified 100 movie reviews into 5 clusters by developing NLP.**</Br>\n",
    "1. tokenization and stemming: separate the words in the each document and filter out stopwords that don't have important meaning and remove punctuations and white space that are not characters. After separating the words and we applied stemming to make the words to their root  words, for example, apples --> apple...\n",
    "\n",
    "\n",
    "2. TF-IDF (term frequnecy - inverse document frequency) : a weighing factor to reflect the importance of a word in a collection or corpus. we fit the tf-idf vectorizer to synopses and got the matrix for further analysis.\n",
    "\n",
    "3. ML: K-Means Clustering: we used the matrix to fit in K-Means Clustering and we assigned 5 clusters.\n",
    "\n",
    "4. Topic Modeling - Latent Dirichlet Allocation: we applied LDA to learn the topic representation of each document and the words associated to each topic.\n",
    "\n",
    "</Br> **after K-Means clustering and LDA, we can classify the documents to 5 groups with different topics and words. We can see what movies are grouped together by models and what words come with the group.** \n"
   ]
  }
 ],
 "metadata": {
  "colab": {
   "collapsed_sections": [],
   "name": "Unsupervised Learning Project.ipynb",
   "provenance": [],
   "version": "0.3.2"
  },
  "kernelspec": {
   "display_name": "Python 3",
   "language": "python",
   "name": "python3"
  },
  "language_info": {
   "codemirror_mode": {
    "name": "ipython",
    "version": 3
   },
   "file_extension": ".py",
   "mimetype": "text/x-python",
   "name": "python",
   "nbconvert_exporter": "python",
   "pygments_lexer": "ipython3",
   "version": "3.7.2"
  }
 },
 "nbformat": 4,
 "nbformat_minor": 1
}
